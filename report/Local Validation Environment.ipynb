{
 "cells": [
  {
   "cell_type": "markdown",
   "metadata": {},
   "source": [
    "## Create Validation Test"
   ]
  },
  {
   "cell_type": "code",
   "execution_count": 2,
   "metadata": {},
   "outputs": [],
   "source": [
    "%load_ext autoreload\n",
    "%autoreload 2"
   ]
  },
  {
   "cell_type": "code",
   "execution_count": 23,
   "metadata": {},
   "outputs": [],
   "source": [
    "import sqlite3\n",
    "import pandas as pd\n",
    "import numpy as np\n",
    "from experiment import *"
   ]
  },
  {
   "cell_type": "code",
   "execution_count": 4,
   "metadata": {},
   "outputs": [],
   "source": [
    "con = sqlite3.connect('../input/database.sqlite')\n",
    "mobiles = pd.read_sql('select * from devices', con)\n",
    "desktops = pd.read_sql('select * from cookies', con)\n",
    "feature_key = 'drawbridge_handle'\n",
    "mobiles_sample = mobiles.loc[:200000]\n",
    "mobiles_sample = mobiles_sample[mobiles_sample[feature_key] != '-1']\n",
    "desktops_sample = desktops.loc[:200000]\n",
    "desktops_sample = desktops_sample[desktops_sample[feature_key] != '-1']"
   ]
  },
  {
   "cell_type": "code",
   "execution_count": 15,
   "metadata": {},
   "outputs": [
    {
     "name": "stdout",
     "output_type": "stream",
     "text": [
      "Mobiles Size (142770, 11)\n",
      "Desktop Size (1643821, 11)\n"
     ]
    }
   ],
   "source": [
    "mobiles_sample = mobiles[mobiles['drawbridge_handle'] != '-1']\n",
    "print 'Mobiles Size', mobiles_sample.shape\n",
    "desktops_sample = desktops[desktops['drawbridge_handle'] != '-1']\n",
    "print 'Desktop Size', desktops_sample.shape"
   ]
  },
  {
   "cell_type": "code",
   "execution_count": 18,
   "metadata": {},
   "outputs": [],
   "source": [
    "train_data = pd.merge(desktops_sample, mobiles_sample, on='drawbridge_handle', how='inner')[['cookie_id', 'device_id']]"
   ]
  },
  {
   "cell_type": "code",
   "execution_count": 19,
   "metadata": {},
   "outputs": [
    {
     "data": {
      "text/plain": [
       "(180083, 2)"
      ]
     },
     "execution_count": 19,
     "output_type": "execute_result",
     "metadata": {}
    }
   ],
   "source": [
    "train_data.shape"
   ]
  },
  {
   "cell_type": "code",
   "execution_count": 20,
   "metadata": {},
   "outputs": [
    {
     "data": {
      "text/plain": [
       "id_162004     5\n",
       "id_4462880    5\n",
       "id_3086287    5\n",
       "id_156620     5\n",
       "id_3908095    5\n",
       "id_2499943    4\n",
       "id_114675     4\n",
       "id_1881853    4\n",
       "id_2766489    4\n",
       "id_2224176    4\n",
       "id_4284912    4\n",
       "id_3201674    4\n",
       "id_263203     4\n",
       "id_4014625    4\n",
       "id_2260940    4\n",
       "...\n",
       "id_4040527    1\n",
       "id_3049341    1\n",
       "id_3895624    1\n",
       "id_3645653    1\n",
       "id_3876593    1\n",
       "id_3062955    1\n",
       "id_870572     1\n",
       "id_3283196    1\n",
       "id_578625     1\n",
       "id_2948822    1\n",
       "id_3222693    1\n",
       "id_3222692    1\n",
       "id_4106921    1\n",
       "id_2355397    1\n",
       "id_3552344    1\n",
       "Length: 175364, dtype: int64"
      ]
     },
     "execution_count": 20,
     "output_type": "execute_result",
     "metadata": {}
    }
   ],
   "source": [
    "train_data['cookie_id'].value_counts()"
   ]
  },
  {
   "cell_type": "code",
   "execution_count": 21,
   "metadata": {},
   "outputs": [
    {
     "data": {
      "text/plain": [
       "id_257899     28\n",
       "id_2347997    23\n",
       "id_1142805    23\n",
       "id_4110604    22\n",
       "id_2060336    21\n",
       "id_2492521    20\n",
       "id_3225410    19\n",
       "id_3350627    19\n",
       "id_4038580    18\n",
       "id_3133379    18\n",
       "id_1801122    18\n",
       "id_4086129    17\n",
       "id_4688638    17\n",
       "id_4746684    16\n",
       "id_4607069    16\n",
       "...\n",
       "id_1956637    1\n",
       "id_1811974    1\n",
       "id_3331933    1\n",
       "id_359775     1\n",
       "id_3097335    1\n",
       "id_3816821    1\n",
       "id_551700     1\n",
       "id_2959153    1\n",
       "id_1549316    1\n",
       "id_638649     1\n",
       "id_1652969    1\n",
       "id_4297359    1\n",
       "id_4409023    1\n",
       "id_157853     1\n",
       "id_4651261    1\n",
       "Length: 142770, dtype: int64"
      ]
     },
     "execution_count": 21,
     "output_type": "execute_result",
     "metadata": {}
    }
   ],
   "source": [
    "train_data['device_id'].value_counts()"
   ]
  },
  {
   "cell_type": "markdown",
   "metadata": {},
   "source": [
    "We then take 80k sample to product the `local_test` set"
   ]
  },
  {
   "cell_type": "code",
   "execution_count": 5,
   "metadata": {},
   "outputs": [
    {
     "data": {
      "text/plain": [
       "'local_y_test.csv'"
      ]
     },
     "execution_count": 5,
     "output_type": "execute_result",
     "metadata": {}
    }
   ],
   "source": [
    "'local_x_test.csv'\n",
    "'local_y_test.csv'"
   ]
  },
  {
   "cell_type": "code",
   "execution_count": 27,
   "metadata": {},
   "outputs": [],
   "source": [
    "train_sample = train_data.loc[np.random.permutation(train_data.index)[:20000]]"
   ]
  },
  {
   "cell_type": "code",
   "execution_count": 35,
   "metadata": {},
   "outputs": [
    {
     "data": {
      "text/plain": [
       "array([u'id_1000317', u'id_1000815', u'id_1001245', ..., u'id_999309',\n",
       "       u'id_999369', u'id_999787'], dtype=object)"
      ]
     },
     "execution_count": 35,
     "output_type": "execute_result",
     "metadata": {}
    }
   ],
   "source": [
    "device_indices = numpy.unique(train_sample['device_id'])\n",
    "device_indices"
   ]
  },
  {
   "cell_type": "code",
   "execution_count": 69,
   "metadata": {},
   "outputs": [
    {
     "data": {
      "text/plain": [
       "(19354, 11)"
      ]
     },
     "execution_count": 69,
     "output_type": "execute_result",
     "metadata": {}
    }
   ],
   "source": [
    "local_test_input = pd.DataFrame({'device_id': device_indices})\n",
    "local_test_input = pd.merge(mobiles, local_test_input, on='device_id', how='inner')\n",
    "local_test_input.to_csv('../input/local_test_input.csv', header=True, index=False)\n",
    "local_test_input.shape"
   ]
  },
  {
   "cell_type": "code",
   "execution_count": 70,
   "metadata": {},
   "outputs": [
    {
     "data": {
      "text/plain": [
       "(19354, 2)"
      ]
     },
     "execution_count": 70,
     "output_type": "execute_result",
     "metadata": {}
    }
   ],
   "source": [
    "local_test_output = pd.DataFrame({'device_id': device_indices})\n",
    "local_test_output = pd.merge(local_test_output, train_data, on='device_id', how='inner')\n",
    "local_test_output = local_test_output.groupby('device_id')['cookie_id'].apply(lambda x: \"%s\" % ' '.join(x)).to_frame().reset_index()\n",
    "local_test_output.to_csv('../input/local_test_output.csv', header=True, index=False)\n",
    "local_test_output.shape"
   ]
  },
  {
   "cell_type": "code",
   "execution_count": null,
   "metadata": {},
   "outputs": [],
   "source": [
    ""
   ]
  }
 ],
 "metadata": {
  "kernelspec": {
   "display_name": "Python 2",
   "language": "python",
   "name": "python2"
  },
  "language_info": {
   "codemirror_mode": {
    "name": "ipython",
    "version": 2.0
   },
   "file_extension": ".py",
   "mimetype": "text/x-python",
   "name": "python",
   "nbconvert_exporter": "python",
   "pygments_lexer": "ipython2",
   "version": "2.7.8"
  }
 },
 "nbformat": 4,
 "nbformat_minor": 0
}