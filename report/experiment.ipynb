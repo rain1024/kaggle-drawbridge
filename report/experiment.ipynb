{
 "cells": [
  {
   "cell_type": "code",
   "execution_count": 14,
   "metadata": {
    "collapsed": false
   },
   "outputs": [
    {
     "name": "stdout",
     "output_type": "stream",
     "text": [
      "The autoreload extension is already loaded. To reload it, use:\n",
      "  %reload_ext autoreload\n"
     ]
    }
   ],
   "source": [
    "%load_ext autoreload\n",
    "%autoreload 2"
   ]
  },
  {
   "cell_type": "code",
   "execution_count": 15,
   "metadata": {
    "collapsed": false
   },
   "outputs": [],
   "source": [
    "import sqlite3\n",
    "import pandas as pd\n",
    "from kaggle_experiment import *\n",
    "from model import *\n",
    "from model_simple import ModelSimple\n",
    "from model_naive import ModelNaive\n",
    "from repository import Repository"
   ]
  },
  {
   "cell_type": "code",
   "execution_count": 17,
   "metadata": {
    "collapsed": false
   },
   "outputs": [],
   "source": [
    "experiment = KaggleExperiment()"
   ]
  },
  {
   "cell_type": "code",
   "execution_count": 18,
   "metadata": {
    "collapsed": false,
    "scrolled": true
   },
   "outputs": [
    {
     "name": "stdout",
     "output_type": "stream",
     "text": [
      " ====================================== \n",
      "|    Data Gathering & Preparation      |\n",
      " ====================================== \n",
      " ====================================== \n",
      "|            Model Building            |\n",
      " ====================================== \n",
      " ====================================== \n",
      "|            Model Evaluate            |\n",
      " ====================================== \n",
      "                     device_id  cookie_id\n",
      "anonymous_c2                             \n",
      "anonymous_c2_10927  id_1000317  id_940017\n",
      "anonymous_c2_11841  id_1000815  id_951801\n",
      "anonymous_c2_21969  id_1001245  id_949844\n",
      "-1                  id_1001761  id_999995\n",
      "-1                  id_1002040  id_999995\n",
      "anonymous_c2_3717   id_1002175  id_847764\n",
      "anonymous_c2_19039  id_1002298  id_979868\n",
      "anonymous_c2_24974  id_1003045  id_980002\n",
      "anonymous_c2_4359   id_1003071  id_973305\n",
      "-1                  id_1003157  id_999995\n",
      "anonymous_c2_19193  id_1003187  id_969120\n",
      "anonymous_c2_22310  id_1003654  id_941304\n",
      "anonymous_c2_28726  id_1003918  id_969380\n",
      "-1                  id_1003966  id_999995\n",
      "-1                  id_1004010  id_999995\n",
      "anonymous_c2_29023  id_1004419  id_807585\n",
      "anonymous_c2_25638  id_1004431  id_867762\n",
      "anonymous_c2_5095   id_1004584  id_994200\n",
      "anonymous_c2_1166   id_1004613  id_842305\n",
      "-1                  id_1004652  id_999995\n",
      "-1                  id_1004942  id_999995\n",
      "anonymous_c2_9305   id_1005222  id_996709\n",
      "anonymous_c2_11665  id_1005475  id_990867\n",
      "anonymous_c2_8092   id_1005852  id_997331\n",
      "anonymous_c2_2406   id_1006003  id_982187\n",
      "-1                  id_1006103  id_999995\n",
      "anonymous_c2_11495  id_1006156   id_68540\n",
      "anonymous_c2_5716   id_1006580  id_976169\n",
      "anonymous_c2_8710   id_1006759  id_990283\n",
      "anonymous_c2_11301  id_1006875  id_855986\n",
      "...                        ...        ...\n",
      "anonymous_c2_6531    id_993856  id_899778\n",
      "-1                   id_994050  id_999995\n",
      "anonymous_c2_24725   id_994458  id_968456\n",
      "-1                   id_994606  id_999995\n",
      "anonymous_c2_3103    id_994655    id_9759\n",
      "-1                   id_994833  id_999995\n",
      "anonymous_c2_13109   id_995297  id_961057\n",
      "anonymous_c2_17810   id_995417  id_999032\n",
      "-1                   id_995752  id_999995\n",
      "anonymous_c2_22392    id_99578  id_967382\n",
      "anonymous_c2_5413    id_995824  id_977597\n",
      "anonymous_c2_18785   id_996135  id_980451\n",
      "-1                   id_996301  id_999995\n",
      "anonymous_c2_9657    id_996483  id_727674\n",
      "anonymous_c2_28230   id_996619  id_986873\n",
      "anonymous_c2_30085   id_996623   id_89611\n",
      "-1                   id_996647  id_999995\n",
      "anonymous_c2_26128   id_996959  id_783383\n",
      "anonymous_c2_12303   id_997035  id_907489\n",
      "anonymous_c2_14807   id_997217  id_914055\n",
      "-1                   id_997662  id_999995\n",
      "anonymous_c2_18160   id_998141  id_996509\n",
      "anonymous_c2_27289   id_998314  id_982353\n",
      "anonymous_c2_30798    id_99838  id_818955\n",
      "-1                   id_998668  id_999995\n",
      "anonymous_c2_11717   id_998912  id_996595\n",
      "anonymous_c2_28293   id_999197  id_970671\n",
      "-1                   id_999309  id_999995\n",
      "anonymous_c2_31323   id_999369  id_928130\n",
      "anonymous_c2_23176   id_999787  id_995039\n",
      "\n",
      "[19354 rows x 2 columns]\n",
      "Evaluate: 0.00149839826392\n"
     ]
    }
   ],
   "source": [
    "experiment.set_model(ModelNaive())\n",
    "experiment.run()"
   ]
  },
  {
   "cell_type": "code",
   "execution_count": 13,
   "metadata": {
    "collapsed": false
   },
   "outputs": [
    {
     "name": "stdout",
     "output_type": "stream",
     "text": [
      "                     device_id   cookie_id\n",
      "anonymous_c2                              \n",
      "-1                        id_1   id_999995\n",
      "anonymous_c2_3059    id_100002   id_985898\n",
      "anonymous_c2_1918   id_1000035   id_971979\n",
      "-1                  id_1000099   id_999995\n",
      "anonymous_c2_17508  id_1000294   id_919752\n",
      "anonymous_c2_29201  id_1000305   id_974295\n",
      "anonymous_c2_15003  id_1000310   id_997913\n",
      "anonymous_c2_26303  id_1000414   id_991442\n",
      "anonymous_c2_1927   id_1000497   id_999327\n",
      "anonymous_c2_30854  id_1000594   id_779029\n",
      "anonymous_c2_6217   id_1000689   id_956205\n",
      "-1                  id_1000709   id_999995\n",
      "anonymous_c2_29085  id_1000741    id_99608\n",
      "-1                   id_100079   id_999995\n",
      "anonymous_c2_7200   id_1000824   id_938154\n",
      "anonymous_c2_30026  id_1000868    id_99896\n",
      "anonymous_c2_4674   id_1000918   id_987712\n",
      "anonymous_c2_30178   id_100095   id_915987\n",
      "-1                  id_1000964   id_999995\n",
      "-1                  id_1001391   id_999995\n",
      "anonymous_c2_468    id_1001532    id_87977\n",
      "-1                   id_100160   id_999995\n",
      "-1                  id_1001657   id_999995\n",
      "anonymous_c2_14675  id_1001701   id_998431\n",
      "anonymous_c2_15026  id_1001954   id_957845\n",
      "anonymous_c2_19656  id_1002053   id_905703\n",
      "-1                  id_1002212   id_999995\n",
      "anonymous_c2_4485   id_1002223   id_968142\n",
      "anonymous_c2_2982   id_1002230    id_99118\n",
      "anonymous_c2_4540   id_1002264   id_882816\n",
      "...                        ...         ...\n",
      "-1                   id_997605   id_999995\n",
      "-1                   id_997854   id_999995\n",
      "-1                   id_997957   id_999995\n",
      "-1                   id_997990   id_999995\n",
      "anonymous_c2_31142   id_998035   id_949757\n",
      "anonymous_c2_23001   id_998069   id_999091\n",
      "anonymous_c2_15976   id_998130   id_998342\n",
      "anonymous_c2_12270   id_998218   id_926204\n",
      "anonymous_c2_10383   id_998315  id_4680336\n",
      "-1                   id_998345   id_999995\n",
      "anonymous_c2_1477    id_998508   id_686681\n",
      "anonymous_c2_13418   id_998566   id_735702\n",
      "anonymous_c2_18846   id_998593   id_943837\n",
      "-1                   id_998606   id_999995\n",
      "anonymous_c2_30609   id_998731   id_995740\n",
      "anonymous_c2_3290    id_998794   id_776196\n",
      "anonymous_c2_28686   id_998942   id_995615\n",
      "anonymous_c2_29080   id_998944   id_990885\n",
      "anonymous_c2_13905   id_999134   id_989745\n",
      "anonymous_c2_24607   id_999179   id_899984\n",
      "-1                    id_99918   id_999995\n",
      "-1                   id_999274   id_999995\n",
      "anonymous_c2_16263   id_999338   id_947209\n",
      "anonymous_c2_12471   id_999342   id_951353\n",
      "anonymous_c2_20037   id_999388   id_783727\n",
      "anonymous_c2_24538   id_999467    id_82538\n",
      "-1                   id_999511   id_999995\n",
      "-1                   id_999623   id_999995\n",
      "-1                   id_999744   id_999995\n",
      "anonymous_c2_12852   id_999865   id_998570\n",
      "\n",
      "[61156 rows x 2 columns]\n",
      "Submission file ../output/2015_08_05_11_08-submission-awesome-experiment.csv is created.\n"
     ]
    }
   ],
   "source": [
    "experiment.kaggle_predict()"
   ]
  },
  {
   "cell_type": "code",
   "execution_count": null,
   "metadata": {
    "collapsed": true
   },
   "outputs": [],
   "source": []
  }
 ],
 "metadata": {
  "kernelspec": {
   "display_name": "Python 2",
   "language": "python",
   "name": "python2"
  },
  "language_info": {
   "codemirror_mode": {
    "name": "ipython",
    "version": 2
   },
   "file_extension": ".py",
   "mimetype": "text/x-python",
   "name": "python",
   "nbconvert_exporter": "python",
   "pygments_lexer": "ipython2",
   "version": "2.7.8"
  }
 },
 "nbformat": 4,
 "nbformat_minor": 0
}
